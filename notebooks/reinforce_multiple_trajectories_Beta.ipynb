{
 "cells": [
  {
   "cell_type": "markdown",
   "metadata": {},
   "source": [
    "# Action Priors in 1D\n",
    "\n",
    "## Imports"
   ]
  },
  {
   "cell_type": "code",
   "execution_count": 9,
   "metadata": {},
   "outputs": [],
   "source": [
    "import tensorflow as tf\n",
    "from tensorflow.keras.layers import Dense, Flatten, Conv2D\n",
    "from tensorflow.keras import Model\n",
    "import tensorflow_probability as tfp\n",
    "tfd = tfp.distributions\n",
    "import numpy as np\n",
    "import matplotlib.pyplot as plt\n",
    "from pprint import pprint\n",
    "import datetime\n",
    "\n",
    "from IPython.core.debugger import set_trace"
   ]
  },
  {
   "cell_type": "code",
   "execution_count": 10,
   "metadata": {},
   "outputs": [
    {
     "name": "stdout",
     "output_type": "stream",
     "text": [
      "The autoreload extension is already loaded. To reload it, use:\n",
      "  %reload_ext autoreload\n"
     ]
    }
   ],
   "source": [
    "import os\n",
    "import sys\n",
    "module_path = os.path.abspath(os.path.join('..'))\n",
    "if module_path not in sys.path:\n",
    "    sys.path.append(module_path)\n",
    "    \n",
    "# load env\n",
    "from src.envs.LinearEnv import LinearEnv\n",
    "\n",
    "\n",
    "# cell magic for reloading imported modules\n",
    "%load_ext autoreload"
   ]
  },
  {
   "cell_type": "markdown",
   "metadata": {},
   "source": [
    "## Environment\n",
    "- State: \n",
    "    - $s \\in \\mathbb{R}^{(1)}$\n",
    "- Simulates a frog jumping over pools of lava in 1D.\n",
    "- Should use 1D arrays for states and actions, etc."
   ]
  },
  {
   "cell_type": "code",
   "execution_count": 11,
   "metadata": {},
   "outputs": [],
   "source": [
    "%autoreload 2\n",
    "# instantiate env\n",
    "env = LinearEnv(5,randomize=True, visualize=False)"
   ]
  },
  {
   "cell_type": "markdown",
   "metadata": {},
   "source": [
    "## Random Agent"
   ]
  },
  {
   "cell_type": "code",
   "execution_count": 12,
   "metadata": {},
   "outputs": [],
   "source": [
    "# random agent\n",
    "def random_agent(obs):\n",
    "    return {\"Action\":np.random.uniform(0,1,size=(1,))}"
   ]
  },
  {
   "cell_type": "code",
   "execution_count": 13,
   "metadata": {},
   "outputs": [],
   "source": [
    "# run a single episode for an agent in the environment and return the rollout\n",
    "\n",
    "def get_episode_trajectory(env, agent, max_steps=1000):\n",
    "    observation_list = []\n",
    "    reward_list = []\n",
    "    action_list = []\n",
    "    value_list = []\n",
    "\n",
    "\n",
    "    done = False\n",
    "    obs = env.reset()\n",
    "    for i in range(max_steps):\n",
    "        observation_list.append(obs.copy())\n",
    "        out = agent(obs)\n",
    "        \n",
    "        assert (\"Action\" in out), \"The key 'Action' was missing from the agents output.\"\n",
    "        action = out[\"Action\"]\n",
    "        obs, rew, done, _, = env.step(action)\n",
    "        reward_list.append(rew)\n",
    "        action_list.append(action.copy())\n",
    "        if \"Value\" in out:\n",
    "            value_list.append(out[\"Value\"])\n",
    "            \n",
    "        if done:\n",
    "            break\n",
    "        \n",
    "    ret = {\n",
    "        \"Observations\": observation_list, \n",
    "        \"Actions\": action_list, \n",
    "        \"Rewards\": np.array(reward_list, dtype=np.float32)\n",
    "    }\n",
    "    if len(value_list) > 0:\n",
    "        ret[\"Values\"] = value_list\n",
    "        \n",
    "    return ret"
   ]
  },
  {
   "cell_type": "code",
   "execution_count": 14,
   "metadata": {},
   "outputs": [],
   "source": [
    "def reward_to_go(rewards):\n",
    "    return np.flip(np.cumsum(np.flip(rewards)))\n",
    "def returns(rewards):\n",
    "    return np.sum(rewards)"
   ]
  },
  {
   "cell_type": "markdown",
   "metadata": {},
   "source": [
    "$$\n",
    "\\large \\nabla_{\\theta}J(\\theta) \\approx \\frac{1}{N}\\sum \\limits_{i = 1}^{N}\\left( \\nabla_{\\theta}\\sum \\limits_{t = 1}^{T} log\\pi_{\\theta}(s_{i,t}\\mid a_{i,t})\\right)\\left( \\sum \\limits_{t = 1}^{T}r(s_{i,t},a_{i,t}) - b\\right)\n",
    "$$"
   ]
  },
  {
   "cell_type": "markdown",
   "metadata": {},
   "source": [
    "## Training Loop"
   ]
  },
  {
   "cell_type": "code",
   "execution_count": 49,
   "metadata": {},
   "outputs": [],
   "source": [
    "def train_policy_grad(env, agent, num_epochs=100):\n",
    "    current_time = datetime.datetime.now().strftime(\"%Y%m%d-%H%M%S\")\n",
    "    train_log_dir = 'logs/' + current_time + '/train'\n",
    "    # test_log_dir = 'logs/gradient_tape/' + current_time + '/test'\n",
    "    train_summary_writer = tf.summary.create_file_writer(train_log_dir)\n",
    "       \n",
    "    optimizer = tf.keras.optimizers.Adam(learning_rate=1e-3)\n",
    "    \n",
    "    log_reward = 0\n",
    "    log_reward_list = []\n",
    "    logging_period = 5\n",
    "    num_trajectories = 20\n",
    "    \n",
    "    for epoch in range(num_epochs):\n",
    "        \n",
    "        obs_list = []\n",
    "        rew_list = []\n",
    "        actions_list = []\n",
    "        returns_list = []\n",
    "        log_probs_list = []\n",
    "        \n",
    "        epoch_gradients = []\n",
    "        for i in range(num_trajectories):\n",
    "            with tf.GradientTape(persistent=True) as tape:\n",
    "                traj = get_episode_trajectory(env, agent) # trajectories may vary in length\n",
    "                \n",
    "                # lists no longer needed\n",
    "                obs_list.append(np.stack(traj[\"Observations\"]))\n",
    "                actions_list.append(traj[\"Actions\"])\n",
    "                # compute 'reward-to-go'\n",
    "                # rew_2_go = reward_to_go(rew)\n",
    "                returns_list.append(np.sum(traj[\"Rewards\"]))\n",
    "                \n",
    "                log_probs = agent.action_dist.log_prob(np.interp(traj[\"Actions\"],(-1,1),(0,1)))\n",
    "\n",
    "                log_prob_sum = tf.reduce_sum(log_probs)\n",
    "                \n",
    "            # compute baseline\n",
    "            baseline = 0\n",
    "\n",
    "            # compute gradients + update weights\n",
    "            traj_gradients = []\n",
    "            for layer in agent_mlp_tf.trainable_variables:\n",
    "                \n",
    "                layer_grad_log_sum = -1*tape.gradient(log_prob_sum, layer)*(np.sum(reward_to_go(traj[\"Rewards\"])) - baseline)\n",
    "\n",
    "                traj_gradients.append(layer_grad_log_sum)\n",
    "            epoch_gradients.append(traj_gradients)\n",
    "        \n",
    "        gradients = []\n",
    "        for i in range(len(agent.trainable_variables)):\n",
    "            l_grads = []\n",
    "            for row, traj_grads in enumerate(epoch_gradients):\n",
    "                l_grads.append(traj_grads[i])\n",
    "                       \n",
    "            gradients.append(tf.reduce_mean(l_grads,axis=0))\n",
    "        \n",
    "        \n",
    "        optimizer.apply_gradients(zip(gradients, agent.trainable_variables))\n",
    "        \n",
    "        \n",
    "        with train_summary_writer.as_default():\n",
    "            tf.summary.scalar('Return', np.mean(returns_list), step=epoch)\n",
    "#             tf.summary.histogram(\"Action\", tf.reduce_mean(out[\"Action\"]) , step=epoch)\n",
    "            tf.summary.histogram(\"LogProbability sum\", tf.reduce_mean(log_prob_sum) , step=epoch)\n",
    "#             tf.summary.histogram(\"Sigma\", tf.reduce_mean(out[\"Scale\"]) , step=epoch)\n",
    "#             tf.summary.histogram(\"Mu\", tf.reduce_mean(out[\"Loc\"]) , step=epoch)\n",
    "            \n",
    "            for i,g in enumerate(gradients):\n",
    "                tf.summary.histogram(\"gradient_\"+str(i),tf.reduce_mean(g), step=epoch)\n",
    "\n",
    "        \n",
    "        # log the reward\n",
    "        log_reward += np.sum(np.mean(returns_list))\n",
    "        if (epoch % logging_period) == 0:\n",
    "            template = 'Training Epoch {}, Averaged Return: {}'\n",
    "            print(template.format(epoch, log_reward / logging_period))\n",
    "            log_reward_list.append(log_reward / logging_period)\n",
    "            log_reward = 0\n",
    "       \n",
    "    return (range(0, num_epochs, logging_period), log_reward_list)"
   ]
  },
  {
   "cell_type": "code",
   "execution_count": 52,
   "metadata": {},
   "outputs": [
    {
     "name": "stdout",
     "output_type": "stream",
     "text": [
      "WARNING:tensorflow:Layer beta_agent_16 is casting an input tensor from dtype float64 to the layer's dtype of float32, which is new behavior in TensorFlow 2.  The layer has dtype float32 because it's dtype defaults to floatx.\n",
      "\n",
      "If you intended to run this layer in float32, you can safely ignore this warning. If in doubt, this warning is likely only an issue if you are porting a TensorFlow 1.X model to TensorFlow 2.\n",
      "\n",
      "To change all layers to have dtype float64 by default, call `tf.keras.backend.set_floatx('float64')`. To change just this layer, pass dtype='float64' to the layer constructor. If you are the author of this layer, you can disable autocasting by passing autocast=False to the base Layer constructor.\n",
      "\n",
      "Training Epoch 0, Averaged Return: -163.7232421875\n",
      "Training Epoch 5, Averaged Return: -798.7348510742188\n",
      "Training Epoch 10, Averaged Return: -865.425732421875\n",
      "Training Epoch 15, Averaged Return: -856.6673095703125\n",
      "Training Epoch 20, Averaged Return: -823.3108154296875\n",
      "Training Epoch 25, Averaged Return: -877.2894287109375\n",
      "Training Epoch 30, Averaged Return: -903.16162109375\n",
      "Training Epoch 35, Averaged Return: -882.3828979492188\n",
      "Training Epoch 40, Averaged Return: -870.153466796875\n",
      "Training Epoch 45, Averaged Return: -910.3799560546875\n",
      "Training Epoch 50, Averaged Return: -928.6411987304688\n",
      "Training Epoch 55, Averaged Return: -973.9660278320313\n",
      "Training Epoch 60, Averaged Return: -934.3091674804688\n",
      "Training Epoch 65, Averaged Return: -882.87958984375\n",
      "Training Epoch 70, Averaged Return: -981.2376098632812\n",
      "Training Epoch 75, Averaged Return: -949.2456909179688\n",
      "Training Epoch 80, Averaged Return: -962.8791748046875\n",
      "Training Epoch 85, Averaged Return: -966.4199340820312\n",
      "Training Epoch 90, Averaged Return: -881.1070068359375\n",
      "Training Epoch 95, Averaged Return: -910.5678588867188\n"
     ]
    }
   ],
   "source": [
    "# load agent\n",
    "from src.agents.AgentMLPTF import BetaAgent\n",
    "\n",
    "agent_mlp_tf = BetaAgent()\n",
    "(episodes, rewards) = train_policy_grad(env, agent_mlp_tf)"
   ]
  },
  {
   "cell_type": "code",
   "execution_count": 55,
   "metadata": {},
   "outputs": [
    {
     "name": "stdout",
     "output_type": "stream",
     "text": [
      "1\n"
     ]
    }
   ],
   "source": [
    "s = env.reset()\n",
    "print(np.array(s.ndim))\n",
    "eps = 20\n",
    "states = []\n",
    "rewards_1 = []\n",
    "for i in range(eps):\n",
    "    traj = get_episode_trajectory(env, random_agent)\n",
    "    rewards_1.append(np.sum(traj[\"Rewards\"]))\n",
    "    "
   ]
  },
  {
   "cell_type": "code",
   "execution_count": 56,
   "metadata": {},
   "outputs": [
    {
     "data": {
      "image/png": "[encoded data removed]",
      "text/plain": [
       "<Figure size 432x288 with 1 Axes>"
      ]
     },
     "metadata": {
      "needs_background": "light"
     },
     "output_type": "display_data"
    }
   ],
   "source": [
    "plt.plot(episodes, rewards, label=\"REINFORCE\")\n",
    "plt.plot(episodes, rewards_1, label=\"Random\")\n",
    "plt.xlabel('Episode Number')\n",
    "plt.ylabel('Average Episode Reward')\n",
    "plt.legend()\n",
    "plt.show()"
   ]
  },
  {
   "cell_type": "code",
   "execution_count": 30,
   "metadata": {},
   "outputs": [
    {
     "name": "stdout",
     "output_type": "stream",
     "text": [
      "1\n"
     ]
    },
    {
     "data": {
      "image/png": "[encoded data removed]",
      "text/plain": [
       "<Figure size 432x288 with 2 Axes>"
      ]
     },
     "metadata": {
      "needs_background": "light"
     },
     "output_type": "display_data"
    }
   ],
   "source": [
    "%autoreload 2\n",
    "# instantiate env\n",
    "env = LinearEnv(8,randomize=False, visualize=True)\n",
    "\n",
    "s = env.reset()\n",
    "print(np.array(s.ndim))\n",
    "eps = 100\n",
    "states = []\n",
    "\n",
    "for i in range(eps):\n",
    "    \n",
    "    a = agent_mlp_tf(s)[\"Action\"]\n",
    "    s,r,done,_ = env.step(a)\n",
    "    states.append(np.array([s,a]))\n",
    "    if done:\n",
    "        break"
   ]
  },
  {
   "cell_type": "code",
   "execution_count": 31,
   "metadata": {},
   "outputs": [
    {
     "data": {
      "text/plain": [
       "<matplotlib.collections.PathCollection at 0x272729f73c8>"
      ]
     },
     "execution_count": 31,
     "metadata": {},
     "output_type": "execute_result"
    },
    {
     "data": {
      "image/png": "[encoded data removed]",
      "text/plain": [
       "<Figure size 432x288 with 1 Axes>"
      ]
     },
     "metadata": {
      "needs_background": "light"
     },
     "output_type": "display_data"
    }
   ],
   "source": [
    "arr = np.array(states)\n",
    "plt.scatter(list(range(arr.shape[0])),arr[:,0])"
   ]
  },
  {
   "cell_type": "code",
   "execution_count": 32,
   "metadata": {},
   "outputs": [
    {
     "data": {
      "text/plain": [
       "(array([ 3.,  3.,  9., 12.,  9.,  6.,  4.,  1.,  2.,  1.]),\n",
       " array([-0.52881972, -0.39593305, -0.26304638, -0.13015971,  0.00272696,\n",
       "         0.13561363,  0.2685003 ,  0.40138697,  0.53427363,  0.6671603 ,\n",
       "         0.80004697]),\n",
       " <BarContainer object of 10 artists>)"
      ]
     },
     "execution_count": 32,
     "metadata": {},
     "output_type": "execute_result"
    },
    {
     "data": {
      "image/png": "[encoded data removed]",
      "text/plain": [
       "<Figure size 432x288 with 1 Axes>"
      ]
     },
     "metadata": {
      "needs_background": "light"
     },
     "output_type": "display_data"
    }
   ],
   "source": [
    "plt.hist(arr[:,1])"
   ]
  },
  {
   "cell_type": "code",
   "execution_count": 34,
   "metadata": {},
   "outputs": [
    {
     "data": {
      "text/plain": [
       "array([[1.09961885],\n",
       "       [0.98330042],\n",
       "       [1.26999753],\n",
       "       [1.05813406],\n",
       "       [1.28685379],\n",
       "       [1.4484547 ],\n",
       "       [1.42353711],\n",
       "       [1.32425533],\n",
       "       [1.18903123],\n",
       "       [1.00501776],\n",
       "       [1.02481764],\n",
       "       [0.96545906],\n",
       "       [0.99912104],\n",
       "       [0.9743021 ],\n",
       "       [0.49388741],\n",
       "       [0.2784256 ],\n",
       "       [0.19302302],\n",
       "       [0.        ],\n",
       "       [0.45013434],\n",
       "       [1.25018131],\n",
       "       [1.29462902],\n",
       "       [1.04404767],\n",
       "       [0.88540426],\n",
       "       [0.43982745],\n",
       "       [0.68045019],\n",
       "       [1.2598574 ],\n",
       "       [1.0429404 ],\n",
       "       [1.39300582],\n",
       "       [1.31566481],\n",
       "       [1.54643011],\n",
       "       [1.59790523],\n",
       "       [1.39957961],\n",
       "       [1.42463322],\n",
       "       [0.8958135 ],\n",
       "       [1.52666709],\n",
       "       [1.65057185],\n",
       "       [1.85013967],\n",
       "       [1.79794047],\n",
       "       [1.65971134],\n",
       "       [1.3494707 ],\n",
       "       [1.0553966 ],\n",
       "       [1.11110036],\n",
       "       [1.41792059],\n",
       "       [1.57192421],\n",
       "       [1.54869978],\n",
       "       [1.48132564],\n",
       "       [1.52878502],\n",
       "       [1.86596872],\n",
       "       [1.75410418],\n",
       "       [1.67500289]])"
      ]
     },
     "execution_count": 34,
     "metadata": {},
     "output_type": "execute_result"
    }
   ],
   "source": [
    "arr[:,0]"
   ]
  },
  {
   "cell_type": "code",
   "execution_count": null,
   "metadata": {},
   "outputs": [],
   "source": []
  }
 ],
 "metadata": {
  "kernelspec": {
   "display_name": "Python 3",
   "language": "python",
   "name": "python3"
  },
  "language_info": {
   "codemirror_mode": {
    "name": "ipython",
    "version": 3
   },
   "file_extension": ".py",
   "mimetype": "text/x-python",
   "name": "python",
   "nbconvert_exporter": "python",
   "pygments_lexer": "ipython3",
   "version": "3.7.0"
  }
 },
 "nbformat": 4,
 "nbformat_minor": 4
}
