{
 "cells": [
  {
   "cell_type": "markdown",
   "metadata": {},
   "source": [
    "# Action Priors in 1D\n",
    "\n",
    "## Imports"
   ]
  },
  {
   "cell_type": "code",
   "execution_count": 16,
   "metadata": {},
   "outputs": [],
   "source": [
    "import tensorflow as tf\n",
    "from tensorflow.keras.layers import Dense, Flatten, Conv2D\n",
    "from tensorflow.keras import Model\n",
    "import tensorflow_probability as tfp\n",
    "tfd = tfp.distributions\n",
    "import numpy as np\n",
    "import matplotlib.pyplot as plt\n",
    "from pprint import pprint\n",
    "import datetime\n",
    "\n",
    "from IPython.core.debugger import set_trace"
   ]
  },
  {
   "cell_type": "code",
   "execution_count": 17,
   "metadata": {},
   "outputs": [
    {
     "name": "stdout",
     "output_type": "stream",
     "text": [
      "The autoreload extension is already loaded. To reload it, use:\n",
      "  %reload_ext autoreload\n"
     ]
    }
   ],
   "source": [
    "import os\n",
    "import sys\n",
    "module_path = os.path.abspath(os.path.join('..'))\n",
    "if module_path not in sys.path:\n",
    "    sys.path.append(module_path)\n",
    "    \n",
    "# load env\n",
    "from src.envs.LinearEnv import LinearEnv\n",
    "\n",
    "\n",
    "# cell magic for reloading imported modules\n",
    "%load_ext autoreload"
   ]
  },
  {
   "cell_type": "markdown",
   "metadata": {},
   "source": [
    "## Environment\n",
    "- State: \n",
    "    - $s \\in \\mathbb{R}^{(1)}$\n",
    "- Simulates a frog jumping over pools of lava in 1D.\n",
    "- Should use 1D arrays for states and actions, etc."
   ]
  },
  {
   "cell_type": "code",
   "execution_count": 18,
   "metadata": {},
   "outputs": [],
   "source": [
    "%autoreload 2\n",
    "# instantiate env\n",
    "env = LinearEnv(8,randomize=False, visualize=True)"
   ]
  },
  {
   "cell_type": "markdown",
   "metadata": {},
   "source": [
    "## Random Agent"
   ]
  },
  {
   "cell_type": "code",
   "execution_count": 19,
   "metadata": {},
   "outputs": [],
   "source": [
    "# random agent\n",
    "def random_agent(obs):\n",
    "    return {\"Action\":np.random.uniform(-0.3,0.3,size=(1,))}"
   ]
  },
  {
   "cell_type": "code",
   "execution_count": 20,
   "metadata": {},
   "outputs": [],
   "source": [
    "# run a single episode for an agent in the environment and return the rollout\n",
    "\n",
    "def get_episode_trajectory(env, agent, max_steps=1000):\n",
    "    observation_list = []\n",
    "    reward_list = []\n",
    "    action_list = []\n",
    "    value_list = []\n",
    "\n",
    "\n",
    "    done = False\n",
    "    obs = env.reset()\n",
    "    for i in range(max_steps):\n",
    "        observation_list.append(obs.copy())\n",
    "        out = agent(obs)\n",
    "        \n",
    "        assert (\"Action\" in out), \"The key 'Action' was missing from the agents output.\"\n",
    "        action = out[\"Action\"]\n",
    "        obs, rew, done, _, = env.step(action)\n",
    "        reward_list.append(rew)\n",
    "        action_list.append(action.copy())\n",
    "        if \"Value\" in out:\n",
    "            value_list.append(out[\"Value\"])\n",
    "            \n",
    "        if done:\n",
    "            break\n",
    "        \n",
    "    ret = {\n",
    "        \"Observations\": observation_list, \n",
    "        \"Actions\": action_list, \n",
    "        \"Rewards\": np.array(reward_list, dtype=np.float32)\n",
    "    }\n",
    "    if len(value_list) > 0:\n",
    "        ret[\"Values\"] = value_list\n",
    "        \n",
    "    return ret"
   ]
  },
  {
   "cell_type": "code",
   "execution_count": 21,
   "metadata": {},
   "outputs": [],
   "source": [
    "def reward_to_go(rewards):\n",
    "    return np.flip(np.cumsum(np.flip(rewards)))\n",
    "def returns(rewards):\n",
    "    return np.sum(rewards)"
   ]
  },
  {
   "cell_type": "markdown",
   "metadata": {},
   "source": [
    "$$\n",
    "\\large \\nabla_{\\theta}J(\\theta) \\approx \\frac{1}{N}\\sum \\limits_{i = 1}^{N}\\left( \\nabla_{\\theta}\\sum \\limits_{t = 1}^{T} log\\pi_{\\theta}(s_{i,t}\\mid a_{i,t})\\right)\\left( \\sum \\limits_{t = 1}^{T}r(s_{i,t},a_{i,t}) - b\\right)\n",
    "$$"
   ]
  },
  {
   "cell_type": "code",
   "execution_count": 22,
   "metadata": {},
   "outputs": [],
   "source": [
    "def loss_pg(log_probs, returns):\n",
    "    \n",
    "    log_probs = tf.reduce_sum(log_probs, axis=0)\n",
    "    \n",
    "    if np.ndim(returns) > 1:\n",
    "        returns = np.sum(returns, axis = 1)\n",
    "    else:\n",
    "        returns = np.sum(returns)\n",
    "    \n",
    "    return -tf.reduce_mean(returns * log_probs)"
   ]
  },
  {
   "cell_type": "markdown",
   "metadata": {},
   "source": [
    "## Training Loop"
   ]
  },
  {
   "cell_type": "code",
   "execution_count": 23,
   "metadata": {},
   "outputs": [],
   "source": [
    "def train_policy_grad(env, agent, num_epochs=300):\n",
    "    current_time = datetime.datetime.now().strftime(\"%Y%m%d-%H%M%S\")\n",
    "    train_log_dir = 'logs/' + current_time + '/train'\n",
    "    # test_log_dir = 'logs/gradient_tape/' + current_time + '/test'\n",
    "    train_summary_writer = tf.summary.create_file_writer(train_log_dir)\n",
    "       \n",
    "    optimizer = tf.keras.optimizers.Adam(learning_rate=1e-3)\n",
    "    \n",
    "    log_reward = 0\n",
    "    log_reward_list = []\n",
    "    logging_period = 1\n",
    "    num_trajectories = 5\n",
    "    \n",
    "    for epoch in range(num_epochs):\n",
    "        \n",
    "        obs_list = []\n",
    "        rew_list = []\n",
    "        actions_list = []\n",
    "        returns_list = []\n",
    "        log_probs_list = []\n",
    "        \n",
    "        epoch_gradients = []\n",
    "        for i in range(num_trajectories):\n",
    "            with tf.GradientTape(persistent=True) as tape:\n",
    "                traj = get_episode_trajectory(env, agent) # trajectories may vary in length\n",
    "                \n",
    "                # lists no longer needed\n",
    "                obs_list.append(np.stack(traj[\"Observations\"]))\n",
    "                actions_list.append(traj[\"Actions\"])\n",
    "                # compute 'reward-to-go'\n",
    "                # rew_2_go = reward_to_go(rew)\n",
    "                returns_list.append(np.sum(traj[\"Rewards\"]))\n",
    "                \n",
    "                log_probs = agent.action_dist.log_prob(traj[\"Actions\"])\n",
    "\n",
    "                log_prob_sum = tf.reduce_sum(log_probs)\n",
    "                \n",
    "            # compute baseline\n",
    "            baseline = 0\n",
    "\n",
    "            # compute gradients + update weights\n",
    "            traj_gradients = []\n",
    "            for layer in agent_mlp_tf.trainable_variables:\n",
    "                \n",
    "                layer_grad_log_sum = -1*tape.gradient(log_prob_sum, layer)*(np.sum(reward_to_go(traj[\"Rewards\"])) - baseline)\n",
    "\n",
    "                traj_gradients.append(layer_grad_log_sum)\n",
    "            epoch_gradients.append(traj_gradients)\n",
    "        \n",
    "        gradients = []\n",
    "        for i in range(len(agent.trainable_variables)):\n",
    "            l_grads = []\n",
    "            for row, traj_grads in enumerate(epoch_gradients):\n",
    "                l_grads.append(traj_grads[i])\n",
    "                       \n",
    "            gradients.append(tf.reduce_mean(l_grads,axis=0))\n",
    "        \n",
    "        \n",
    "        optimizer.apply_gradients(zip(gradients, agent.trainable_variables))\n",
    "        \n",
    "        \n",
    "        with train_summary_writer.as_default():\n",
    "            tf.summary.scalar('Return', np.mean(returns_list), step=epoch)\n",
    "#             tf.summary.histogram(\"Action\", tf.reduce_mean(out[\"Action\"]) , step=epoch)\n",
    "            tf.summary.histogram(\"LogProbability sum\", tf.reduce_mean(log_prob_sum) , step=epoch)\n",
    "#             tf.summary.histogram(\"Sigma\", tf.reduce_mean(out[\"Scale\"]) , step=epoch)\n",
    "#             tf.summary.histogram(\"Mu\", tf.reduce_mean(out[\"Loc\"]) , step=epoch)\n",
    "            \n",
    "            for i,g in enumerate(gradients):\n",
    "                tf.summary.histogram(\"gradient_\"+str(i),tf.reduce_mean(g), step=epoch)\n",
    "\n",
    "        \n",
    "        # log the reward\n",
    "        log_reward += np.sum(np.mean(returns_list))\n",
    "        if (epoch % logging_period) == 0:\n",
    "            template = 'Training Epoch {}, Averaged Return: {}'\n",
    "            print(template.format(epoch, log_reward / logging_period))\n",
    "            log_reward_list.append(log_reward / logging_period)\n",
    "            log_reward = 0\n",
    "       \n",
    "    return (range(0, num_epochs, logging_period), log_reward_list)"
   ]
  },
  {
   "cell_type": "code",
   "execution_count": 24,
   "metadata": {},
   "outputs": [
    {
     "name": "stdout",
     "output_type": "stream",
     "text": [
      "Training Epoch 0, Averaged Return: -878.7130126953125\n",
      "Training Epoch 1, Averaged Return: -722.3113403320312\n",
      "Training Epoch 2, Averaged Return: -1320.391845703125\n",
      "Training Epoch 3, Averaged Return: -863.30810546875\n",
      "Training Epoch 4, Averaged Return: -1096.59375\n",
      "Training Epoch 5, Averaged Return: -1108.090576171875\n",
      "Training Epoch 6, Averaged Return: -1206.275146484375\n",
      "Training Epoch 7, Averaged Return: -780.2210693359375\n",
      "Training Epoch 8, Averaged Return: -1045.129150390625\n",
      "Training Epoch 9, Averaged Return: -1270.693359375\n",
      "Training Epoch 10, Averaged Return: -1034.6856689453125\n",
      "Training Epoch 11, Averaged Return: -1016.7145385742188\n",
      "Training Epoch 12, Averaged Return: -1158.095458984375\n",
      "Training Epoch 13, Averaged Return: -980.1905517578125\n",
      "Training Epoch 14, Averaged Return: -1180.0986328125\n",
      "Training Epoch 15, Averaged Return: -1165.709716796875\n",
      "Training Epoch 16, Averaged Return: -918.5943603515625\n",
      "Training Epoch 17, Averaged Return: -1291.097412109375\n",
      "Training Epoch 18, Averaged Return: -1112.517578125\n",
      "Training Epoch 19, Averaged Return: -836.48486328125\n",
      "Training Epoch 20, Averaged Return: -1005.70166015625\n",
      "Training Epoch 21, Averaged Return: -659.6104125976562\n",
      "Training Epoch 22, Averaged Return: -813.6986083984375\n",
      "Training Epoch 23, Averaged Return: -409.7938537597656\n",
      "Training Epoch 24, Averaged Return: -949.50048828125\n",
      "Training Epoch 25, Averaged Return: -848.6246948242188\n",
      "Training Epoch 26, Averaged Return: -595.7330322265625\n",
      "Training Epoch 27, Averaged Return: -391.8230285644531\n",
      "Training Epoch 28, Averaged Return: -388.11614990234375\n",
      "Training Epoch 29, Averaged Return: -866.3193359375\n",
      "Training Epoch 30, Averaged Return: -562.7625732421875\n",
      "Training Epoch 31, Averaged Return: -428.7120056152344\n",
      "Training Epoch 32, Averaged Return: -575.959716796875\n",
      "Training Epoch 33, Averaged Return: -558.2428588867188\n",
      "Training Epoch 34, Averaged Return: -384.1938171386719\n",
      "Training Epoch 35, Averaged Return: -441.85723876953125\n",
      "Training Epoch 36, Averaged Return: -630.35546875\n",
      "Training Epoch 37, Averaged Return: -351.79534912109375\n",
      "Training Epoch 38, Averaged Return: -310.6515197753906\n",
      "Training Epoch 39, Averaged Return: -368.6573791503906\n",
      "Training Epoch 40, Averaged Return: -709.52587890625\n",
      "Training Epoch 41, Averaged Return: -633.0015869140625\n",
      "Training Epoch 42, Averaged Return: -537.1973876953125\n",
      "Training Epoch 43, Averaged Return: -249.0607147216797\n",
      "Training Epoch 44, Averaged Return: -420.4461975097656\n",
      "Training Epoch 45, Averaged Return: -336.14459228515625\n",
      "Training Epoch 46, Averaged Return: -450.49432373046875\n",
      "Training Epoch 47, Averaged Return: -320.7423400878906\n",
      "Training Epoch 48, Averaged Return: -251.0987548828125\n",
      "Training Epoch 49, Averaged Return: -292.50384521484375\n",
      "Training Epoch 50, Averaged Return: -203.9663543701172\n",
      "Training Epoch 51, Averaged Return: -271.1816101074219\n",
      "Training Epoch 52, Averaged Return: -611.796875\n",
      "Training Epoch 53, Averaged Return: -403.0382995605469\n",
      "Training Epoch 54, Averaged Return: -432.85980224609375\n",
      "Training Epoch 55, Averaged Return: -395.9707946777344\n",
      "Training Epoch 56, Averaged Return: -425.83795166015625\n",
      "Training Epoch 57, Averaged Return: -544.2298583984375\n",
      "Training Epoch 58, Averaged Return: -298.13018798828125\n",
      "Training Epoch 59, Averaged Return: -359.4080505371094\n",
      "Training Epoch 60, Averaged Return: -181.2476043701172\n",
      "Training Epoch 61, Averaged Return: -209.8290252685547\n",
      "Training Epoch 62, Averaged Return: -366.8036193847656\n",
      "Training Epoch 63, Averaged Return: -187.741943359375\n",
      "Training Epoch 64, Averaged Return: -355.4996032714844\n",
      "Training Epoch 65, Averaged Return: -194.1359100341797\n",
      "Training Epoch 66, Averaged Return: -291.84722900390625\n",
      "Training Epoch 67, Averaged Return: -464.5909118652344\n",
      "Training Epoch 68, Averaged Return: -309.0411071777344\n",
      "Training Epoch 69, Averaged Return: -219.5738067626953\n",
      "Training Epoch 70, Averaged Return: -213.7873992919922\n",
      "Training Epoch 71, Averaged Return: -173.95701599121094\n",
      "Training Epoch 72, Averaged Return: -293.57098388671875\n",
      "Training Epoch 73, Averaged Return: -291.49932861328125\n",
      "Training Epoch 74, Averaged Return: -335.5912170410156\n",
      "Training Epoch 75, Averaged Return: -190.35842895507812\n",
      "Training Epoch 76, Averaged Return: -239.7679443359375\n",
      "Training Epoch 77, Averaged Return: -224.0412139892578\n",
      "Training Epoch 78, Averaged Return: -605.52294921875\n",
      "Training Epoch 79, Averaged Return: -358.183349609375\n",
      "Training Epoch 80, Averaged Return: -386.82257080078125\n",
      "Training Epoch 81, Averaged Return: -318.635498046875\n",
      "Training Epoch 82, Averaged Return: -135.8153076171875\n",
      "Training Epoch 83, Averaged Return: -178.4943084716797\n",
      "Training Epoch 84, Averaged Return: -248.9126739501953\n",
      "Training Epoch 85, Averaged Return: -185.50918579101562\n",
      "Training Epoch 86, Averaged Return: -270.59991455078125\n",
      "Training Epoch 87, Averaged Return: -225.00112915039062\n",
      "Training Epoch 88, Averaged Return: -358.250732421875\n",
      "Training Epoch 89, Averaged Return: -264.4049072265625\n",
      "Training Epoch 90, Averaged Return: -253.3119659423828\n",
      "Training Epoch 91, Averaged Return: -318.1306457519531\n",
      "Training Epoch 92, Averaged Return: -390.88702392578125\n",
      "Training Epoch 93, Averaged Return: -270.95465087890625\n",
      "Training Epoch 94, Averaged Return: -179.3680419921875\n",
      "Training Epoch 95, Averaged Return: -220.06362915039062\n",
      "Training Epoch 96, Averaged Return: -168.77029418945312\n",
      "Training Epoch 97, Averaged Return: -191.5706787109375\n",
      "Training Epoch 98, Averaged Return: -174.59066772460938\n",
      "Training Epoch 99, Averaged Return: -326.8147888183594\n",
      "Training Epoch 100, Averaged Return: -198.50592041015625\n",
      "Training Epoch 101, Averaged Return: -314.94024658203125\n",
      "Training Epoch 102, Averaged Return: -196.98074340820312\n",
      "Training Epoch 103, Averaged Return: -211.6343231201172\n",
      "Training Epoch 104, Averaged Return: -332.5716857910156\n",
      "Training Epoch 105, Averaged Return: -197.56190490722656\n",
      "Training Epoch 106, Averaged Return: -163.5801239013672\n",
      "Training Epoch 107, Averaged Return: -250.54165649414062\n",
      "Training Epoch 108, Averaged Return: -500.5240783691406\n",
      "Training Epoch 109, Averaged Return: -270.45709228515625\n",
      "Training Epoch 110, Averaged Return: -283.5049743652344\n",
      "Training Epoch 111, Averaged Return: -349.1752624511719\n",
      "Training Epoch 112, Averaged Return: -213.9270477294922\n",
      "Training Epoch 113, Averaged Return: -196.42251586914062\n",
      "Training Epoch 114, Averaged Return: -217.45028686523438\n",
      "Training Epoch 115, Averaged Return: -306.26715087890625\n",
      "Training Epoch 116, Averaged Return: -270.2854919433594\n",
      "Training Epoch 117, Averaged Return: -200.7843475341797\n",
      "Training Epoch 118, Averaged Return: -150.27005004882812\n",
      "Training Epoch 119, Averaged Return: -237.9666290283203\n",
      "Training Epoch 120, Averaged Return: -317.22589111328125\n",
      "Training Epoch 121, Averaged Return: -448.485107421875\n",
      "Training Epoch 122, Averaged Return: -272.65362548828125\n",
      "Training Epoch 123, Averaged Return: -213.1914825439453\n",
      "Training Epoch 124, Averaged Return: -191.32644653320312\n",
      "Training Epoch 125, Averaged Return: -216.9960479736328\n",
      "Training Epoch 126, Averaged Return: -314.01910400390625\n",
      "Training Epoch 127, Averaged Return: -319.8485412597656\n",
      "Training Epoch 128, Averaged Return: -273.48638916015625\n",
      "Training Epoch 129, Averaged Return: -377.32757568359375\n",
      "Training Epoch 130, Averaged Return: -196.271728515625\n",
      "Training Epoch 131, Averaged Return: -264.76556396484375\n",
      "Training Epoch 132, Averaged Return: -421.4185485839844\n",
      "Training Epoch 133, Averaged Return: -202.52798461914062\n",
      "Training Epoch 134, Averaged Return: -194.66928100585938\n",
      "Training Epoch 135, Averaged Return: -244.7197265625\n",
      "Training Epoch 136, Averaged Return: -227.86935424804688\n",
      "Training Epoch 137, Averaged Return: -228.3429718017578\n",
      "Training Epoch 138, Averaged Return: -236.1097412109375\n",
      "Training Epoch 139, Averaged Return: -246.835205078125\n",
      "Training Epoch 140, Averaged Return: -162.64718627929688\n",
      "Training Epoch 141, Averaged Return: -224.0943603515625\n",
      "Training Epoch 142, Averaged Return: -281.5465393066406\n",
      "Training Epoch 143, Averaged Return: -201.54995727539062\n",
      "Training Epoch 144, Averaged Return: -174.24331665039062\n",
      "Training Epoch 145, Averaged Return: -517.4103393554688\n",
      "Training Epoch 146, Averaged Return: -285.5198974609375\n",
      "Training Epoch 147, Averaged Return: -178.30517578125\n",
      "Training Epoch 148, Averaged Return: -288.40142822265625\n"
     ]
    },
    {
     "name": "stdout",
     "output_type": "stream",
     "text": [
      "Training Epoch 149, Averaged Return: -286.5391540527344\n",
      "Training Epoch 150, Averaged Return: -299.15887451171875\n",
      "Training Epoch 151, Averaged Return: -248.882568359375\n",
      "Training Epoch 152, Averaged Return: -218.3595733642578\n",
      "Training Epoch 153, Averaged Return: -295.5204162597656\n",
      "Training Epoch 154, Averaged Return: -256.13677978515625\n",
      "Training Epoch 155, Averaged Return: -214.1280975341797\n",
      "Training Epoch 156, Averaged Return: -157.69813537597656\n",
      "Training Epoch 157, Averaged Return: -252.21640014648438\n",
      "Training Epoch 158, Averaged Return: -197.73336791992188\n",
      "Training Epoch 159, Averaged Return: -233.6224365234375\n",
      "Training Epoch 160, Averaged Return: -210.61474609375\n",
      "Training Epoch 161, Averaged Return: -154.79052734375\n",
      "Training Epoch 162, Averaged Return: -151.25369262695312\n",
      "Training Epoch 163, Averaged Return: -164.0354766845703\n",
      "Training Epoch 164, Averaged Return: -317.26055908203125\n",
      "Training Epoch 165, Averaged Return: -256.407470703125\n",
      "Training Epoch 166, Averaged Return: -312.1751708984375\n",
      "Training Epoch 167, Averaged Return: -191.15252685546875\n",
      "Training Epoch 168, Averaged Return: -210.1623992919922\n",
      "Training Epoch 169, Averaged Return: -376.75897216796875\n",
      "Training Epoch 170, Averaged Return: -186.97964477539062\n",
      "Training Epoch 171, Averaged Return: -252.6660919189453\n",
      "Training Epoch 172, Averaged Return: -237.03970336914062\n",
      "Training Epoch 173, Averaged Return: -238.3268585205078\n",
      "Training Epoch 174, Averaged Return: -198.43594360351562\n",
      "Training Epoch 175, Averaged Return: -164.6737060546875\n",
      "Training Epoch 176, Averaged Return: -276.5447692871094\n",
      "Training Epoch 177, Averaged Return: -280.33172607421875\n",
      "Training Epoch 178, Averaged Return: -275.9281921386719\n",
      "Training Epoch 179, Averaged Return: -226.33480834960938\n",
      "Training Epoch 180, Averaged Return: -231.6387176513672\n",
      "Training Epoch 181, Averaged Return: -191.7222137451172\n",
      "Training Epoch 182, Averaged Return: -275.1344909667969\n",
      "Training Epoch 183, Averaged Return: -374.1148986816406\n",
      "Training Epoch 184, Averaged Return: -237.54818725585938\n",
      "Training Epoch 185, Averaged Return: -288.1039123535156\n",
      "Training Epoch 186, Averaged Return: -256.6279296875\n",
      "Training Epoch 187, Averaged Return: -304.7222900390625\n",
      "Training Epoch 188, Averaged Return: -201.9154815673828\n",
      "Training Epoch 189, Averaged Return: -243.2666778564453\n",
      "Training Epoch 190, Averaged Return: -311.1128234863281\n",
      "Training Epoch 191, Averaged Return: -345.40008544921875\n",
      "Training Epoch 192, Averaged Return: -278.4676208496094\n",
      "Training Epoch 193, Averaged Return: -218.26260375976562\n",
      "Training Epoch 194, Averaged Return: -206.08090209960938\n",
      "Training Epoch 195, Averaged Return: -236.1143035888672\n",
      "Training Epoch 196, Averaged Return: -183.11965942382812\n",
      "Training Epoch 197, Averaged Return: -324.41192626953125\n",
      "Training Epoch 198, Averaged Return: -293.08624267578125\n",
      "Training Epoch 199, Averaged Return: -326.2475891113281\n",
      "Training Epoch 200, Averaged Return: -238.32272338867188\n",
      "Training Epoch 201, Averaged Return: -210.7906494140625\n",
      "Training Epoch 202, Averaged Return: -273.4608459472656\n",
      "Training Epoch 203, Averaged Return: -151.27456665039062\n",
      "Training Epoch 204, Averaged Return: -213.03921508789062\n",
      "Training Epoch 205, Averaged Return: -263.1278381347656\n",
      "Training Epoch 206, Averaged Return: -201.2331085205078\n",
      "Training Epoch 207, Averaged Return: -202.2942657470703\n",
      "Training Epoch 208, Averaged Return: -233.79867553710938\n",
      "Training Epoch 209, Averaged Return: -249.10586547851562\n",
      "Training Epoch 210, Averaged Return: -141.48204040527344\n",
      "Training Epoch 211, Averaged Return: -240.95095825195312\n",
      "Training Epoch 212, Averaged Return: -292.681884765625\n",
      "Training Epoch 213, Averaged Return: -256.1548767089844\n",
      "Training Epoch 214, Averaged Return: -261.5566101074219\n",
      "Training Epoch 215, Averaged Return: -225.03396606445312\n",
      "Training Epoch 216, Averaged Return: -241.6860809326172\n",
      "Training Epoch 217, Averaged Return: -210.6532440185547\n",
      "Training Epoch 218, Averaged Return: -282.9037170410156\n",
      "Training Epoch 219, Averaged Return: -170.02737426757812\n",
      "Training Epoch 220, Averaged Return: -224.243896484375\n",
      "Training Epoch 221, Averaged Return: -253.75341796875\n",
      "Training Epoch 222, Averaged Return: -185.26589965820312\n",
      "Training Epoch 223, Averaged Return: -202.80691528320312\n",
      "Training Epoch 224, Averaged Return: -219.46365356445312\n",
      "Training Epoch 225, Averaged Return: -199.00021362304688\n",
      "Training Epoch 226, Averaged Return: -381.7471618652344\n",
      "Training Epoch 227, Averaged Return: -173.564208984375\n",
      "Training Epoch 228, Averaged Return: -217.89248657226562\n",
      "Training Epoch 229, Averaged Return: -229.51315307617188\n",
      "Training Epoch 230, Averaged Return: -187.0172882080078\n",
      "Training Epoch 231, Averaged Return: -310.7106628417969\n",
      "Training Epoch 232, Averaged Return: -190.3302001953125\n",
      "Training Epoch 233, Averaged Return: -244.91055297851562\n",
      "Training Epoch 234, Averaged Return: -234.38656616210938\n",
      "Training Epoch 235, Averaged Return: -323.43865966796875\n",
      "Training Epoch 236, Averaged Return: -281.55718994140625\n",
      "Training Epoch 237, Averaged Return: -138.31668090820312\n",
      "Training Epoch 238, Averaged Return: -162.01480102539062\n",
      "Training Epoch 239, Averaged Return: -214.1102752685547\n",
      "Training Epoch 240, Averaged Return: -206.81021118164062\n",
      "Training Epoch 241, Averaged Return: -244.46630859375\n",
      "Training Epoch 242, Averaged Return: -222.1500701904297\n",
      "Training Epoch 243, Averaged Return: -212.02133178710938\n",
      "Training Epoch 244, Averaged Return: -195.77291870117188\n",
      "Training Epoch 245, Averaged Return: -327.30596923828125\n",
      "Training Epoch 246, Averaged Return: -241.13265991210938\n",
      "Training Epoch 247, Averaged Return: -154.19290161132812\n",
      "Training Epoch 248, Averaged Return: -143.81204223632812\n",
      "Training Epoch 249, Averaged Return: -166.4090118408203\n",
      "Training Epoch 250, Averaged Return: -174.88058471679688\n",
      "Training Epoch 251, Averaged Return: -148.40431213378906\n",
      "Training Epoch 252, Averaged Return: -175.0188446044922\n",
      "Training Epoch 253, Averaged Return: -270.33380126953125\n",
      "Training Epoch 254, Averaged Return: -182.2454833984375\n",
      "Training Epoch 255, Averaged Return: -225.88497924804688\n",
      "Training Epoch 256, Averaged Return: -313.4657897949219\n",
      "Training Epoch 257, Averaged Return: -195.03231811523438\n",
      "Training Epoch 258, Averaged Return: -174.92202758789062\n",
      "Training Epoch 259, Averaged Return: -210.3248748779297\n",
      "Training Epoch 260, Averaged Return: -160.7694549560547\n",
      "Training Epoch 261, Averaged Return: -170.56019592285156\n",
      "Training Epoch 262, Averaged Return: -165.0683135986328\n",
      "Training Epoch 263, Averaged Return: -213.1849822998047\n",
      "Training Epoch 264, Averaged Return: -193.8751678466797\n",
      "Training Epoch 265, Averaged Return: -166.001220703125\n",
      "Training Epoch 266, Averaged Return: -212.10183715820312\n",
      "Training Epoch 267, Averaged Return: -148.01849365234375\n",
      "Training Epoch 268, Averaged Return: -222.0061798095703\n",
      "Training Epoch 269, Averaged Return: -213.4141082763672\n",
      "Training Epoch 270, Averaged Return: -194.6845703125\n",
      "Training Epoch 271, Averaged Return: -234.87734985351562\n",
      "Training Epoch 272, Averaged Return: -228.02420043945312\n",
      "Training Epoch 273, Averaged Return: -278.9539489746094\n",
      "Training Epoch 274, Averaged Return: -250.38986206054688\n",
      "Training Epoch 275, Averaged Return: -155.02877807617188\n",
      "Training Epoch 276, Averaged Return: -203.01112365722656\n",
      "Training Epoch 277, Averaged Return: -236.82492065429688\n",
      "Training Epoch 278, Averaged Return: -274.139404296875\n",
      "Training Epoch 279, Averaged Return: -171.3439178466797\n",
      "Training Epoch 280, Averaged Return: -240.56527709960938\n",
      "Training Epoch 281, Averaged Return: -207.07766723632812\n",
      "Training Epoch 282, Averaged Return: -273.024658203125\n",
      "Training Epoch 283, Averaged Return: -344.25311279296875\n",
      "Training Epoch 284, Averaged Return: -192.4117889404297\n",
      "Training Epoch 285, Averaged Return: -250.3227996826172\n",
      "Training Epoch 286, Averaged Return: -173.31813049316406\n",
      "Training Epoch 287, Averaged Return: -290.65948486328125\n",
      "Training Epoch 288, Averaged Return: -188.85435485839844\n",
      "Training Epoch 289, Averaged Return: -213.6474609375\n",
      "Training Epoch 290, Averaged Return: -218.22146606445312\n",
      "Training Epoch 291, Averaged Return: -242.52001953125\n",
      "Training Epoch 292, Averaged Return: -200.81564331054688\n",
      "Training Epoch 293, Averaged Return: -164.89797973632812\n",
      "Training Epoch 294, Averaged Return: -274.0316467285156\n"
     ]
    },
    {
     "name": "stdout",
     "output_type": "stream",
     "text": [
      "Training Epoch 295, Averaged Return: -218.15249633789062\n",
      "Training Epoch 296, Averaged Return: -174.25323486328125\n",
      "Training Epoch 297, Averaged Return: -193.88381958007812\n",
      "Training Epoch 298, Averaged Return: -459.2433166503906\n",
      "Training Epoch 299, Averaged Return: -235.19027709960938\n"
     ]
    },
    {
     "data": {
      "image/png": "[encoded data removed]",
      "text/plain": [
       "<Figure size 432x288 with 1 Axes>"
      ]
     },
     "metadata": {
      "needs_background": "light"
     },
     "output_type": "display_data"
    }
   ],
   "source": [
    "# load agent\n",
    "from src.agents.AgentMLPTF import AgentMLPTF\n",
    "\n",
    "agent_mlp_tf = AgentMLPTF()\n",
    "(episodes, rewards) = train_policy_grad(env, agent_mlp_tf)"
   ]
  },
  {
   "cell_type": "code",
   "execution_count": 25,
   "metadata": {},
   "outputs": [
    {
     "name": "stdout",
     "output_type": "stream",
     "text": [
      "1\n"
     ]
    }
   ],
   "source": [
    "s = env.reset()\n",
    "print(np.array(s.ndim))\n",
    "eps = 300\n",
    "states = []\n",
    "rewards_1 = []\n",
    "for i in range(eps):\n",
    "    traj = get_episode_trajectory(env, random_agent)\n",
    "    rewards_1.append(np.sum(traj[\"Rewards\"]))\n",
    "    "
   ]
  },
  {
   "cell_type": "code",
   "execution_count": 26,
   "metadata": {},
   "outputs": [
    {
     "data": {
      "image/png": "[encoded data removed]",
      "text/plain": [
       "<Figure size 432x288 with 1 Axes>"
      ]
     },
     "metadata": {
      "needs_background": "light"
     },
     "output_type": "display_data"
    }
   ],
   "source": [
    "plt.plot(episodes, rewards, label=\"REINFORCE\")\n",
    "plt.plot(episodes, rewards_1, label=\"Random\")\n",
    "plt.xlabel('Episode Number')\n",
    "plt.ylabel('Average Episode Reward')\n",
    "plt.legend()\n",
    "plt.show()"
   ]
  },
  {
   "cell_type": "code",
   "execution_count": 36,
   "metadata": {},
   "outputs": [
    {
     "name": "stdout",
     "output_type": "stream",
     "text": [
      "1\n"
     ]
    },
    {
     "data": {
      "image/png": "[encoded data removed]",
      "text/plain": [
       "<Figure size 432x288 with 1 Axes>"
      ]
     },
     "metadata": {
      "needs_background": "light"
     },
     "output_type": "display_data"
    }
   ],
   "source": [
    "%autoreload 2\n",
    "# instantiate env\n",
    "env = LinearEnv(8,randomize=False, visualize=True)\n",
    "\n",
    "s = env.reset()\n",
    "print(np.array(s.ndim))\n",
    "eps = 100\n",
    "states = []\n",
    "\n",
    "for i in range(eps):\n",
    "    \n",
    "    a = agent_mlp_tf(s)[\"Action\"]\n",
    "    s,r,done,_ = env.step(a)\n",
    "    states.append(np.array([s,a]))\n",
    "    if done:\n",
    "        break"
   ]
  },
  {
   "cell_type": "code",
   "execution_count": 37,
   "metadata": {},
   "outputs": [
    {
     "data": {
      "text/plain": [
       "<matplotlib.collections.PathCollection at 0x23097ff1160>"
      ]
     },
     "execution_count": 37,
     "metadata": {},
     "output_type": "execute_result"
    },
    {
     "data": {
      "image/png": "[encoded data removed]",
      "text/plain": [
       "<Figure size 432x288 with 1 Axes>"
      ]
     },
     "metadata": {
      "needs_background": "light"
     },
     "output_type": "display_data"
    }
   ],
   "source": [
    "arr = np.array(states)\n",
    "plt.scatter(list(range(arr.shape[0])),arr[:,0])"
   ]
  },
  {
   "cell_type": "code",
   "execution_count": 38,
   "metadata": {},
   "outputs": [
    {
     "data": {
      "text/plain": [
       "(array([2., 2., 2., 1., 0., 0., 2., 1., 0., 2.]),\n",
       " array([-0.09192463,  0.1485388 ,  0.38900222,  0.62946565,  0.86992907,\n",
       "         1.1103925 ,  1.35085592,  1.59131935,  1.83178277,  2.0722462 ,\n",
       "         2.31270963]),\n",
       " <BarContainer object of 10 artists>)"
      ]
     },
     "execution_count": 38,
     "metadata": {},
     "output_type": "execute_result"
    },
    {
     "data": {
      "image/png": "[encoded data removed]",
      "text/plain": [
       "<Figure size 432x288 with 1 Axes>"
      ]
     },
     "metadata": {
      "needs_background": "light"
     },
     "output_type": "display_data"
    }
   ],
   "source": [
    "plt.hist(arr[:,1])"
   ]
  },
  {
   "cell_type": "code",
   "execution_count": 39,
   "metadata": {},
   "outputs": [
    {
     "data": {
      "text/plain": [
       "array([[2.        ],\n",
       "       [2.18879725],\n",
       "       [3.05482218],\n",
       "       [2.98217352],\n",
       "       [3.30487556],\n",
       "       [3.858996  ],\n",
       "       [3.76707137],\n",
       "       [4.76707137],\n",
       "       [5.22296011],\n",
       "       [6.22296011],\n",
       "       [7.22296011],\n",
       "       [8.22296011]])"
      ]
     },
     "execution_count": 39,
     "metadata": {},
     "output_type": "execute_result"
    }
   ],
   "source": [
    "arr[:,0]"
   ]
  },
  {
   "cell_type": "code",
   "execution_count": null,
   "metadata": {},
   "outputs": [],
   "source": []
  }
 ],
 "metadata": {
  "kernelspec": {
   "display_name": "Python 3",
   "language": "python",
   "name": "python3"
  },
  "language_info": {
   "codemirror_mode": {
    "name": "ipython",
    "version": 3
   },
   "file_extension": ".py",
   "mimetype": "text/x-python",
   "name": "python",
   "nbconvert_exporter": "python",
   "pygments_lexer": "ipython3",
   "version": "3.7.0"
  }
 },
 "nbformat": 4,
 "nbformat_minor": 4
}
