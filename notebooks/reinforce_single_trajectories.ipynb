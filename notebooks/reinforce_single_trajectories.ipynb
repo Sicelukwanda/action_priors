{
 "cells": [
  {
   "cell_type": "markdown",
   "metadata": {},
   "source": [
    "# Action Priors in 1D\n",
    "\n",
    "## Imports"
   ]
  },
  {
   "cell_type": "code",
   "execution_count": 1,
   "metadata": {},
   "outputs": [],
   "source": [
    "import tensorflow as tf\n",
    "from tensorflow.keras.layers import Dense, Flatten, Conv2D\n",
    "from tensorflow.keras import Model\n",
    "import tensorflow_probability as tfp\n",
    "tfd = tfp.distributions\n",
    "import numpy as np\n",
    "import matplotlib.pyplot as plt\n",
    "from pprint import pprint\n",
    "import datetime\n",
    "\n",
    "from IPython.core.debugger import set_trace"
   ]
  },
  {
   "cell_type": "code",
   "execution_count": 2,
   "metadata": {},
   "outputs": [],
   "source": [
    "import os\n",
    "import sys\n",
    "module_path = os.path.abspath(os.path.join('..'))\n",
    "if module_path not in sys.path:\n",
    "    sys.path.append(module_path)\n",
    "    \n",
    "# load env\n",
    "from src.envs.LinearEnv import LinearEnv\n",
    "\n",
    "\n",
    "# cell magic for reloading imported modules\n",
    "%load_ext autoreload"
   ]
  },
  {
   "cell_type": "markdown",
   "metadata": {},
   "source": [
    "## Environment\n",
    "- State: \n",
    "    - $s \\in \\mathbb{R}^{(1)}$\n",
    "- Simulates a frog jumping over pools of lava in 1D.\n",
    "- Should use 1D arrays for states and actions, etc."
   ]
  },
  {
   "cell_type": "code",
   "execution_count": 3,
   "metadata": {},
   "outputs": [],
   "source": [
    "%autoreload 2\n",
    "# instantiate env\n",
    "env = LinearEnv(8,randomize=False, visualize=True)"
   ]
  },
  {
   "cell_type": "markdown",
   "metadata": {},
   "source": [
    "## Random Agent"
   ]
  },
  {
   "cell_type": "code",
   "execution_count": 4,
   "metadata": {},
   "outputs": [],
   "source": [
    "# random agent\n",
    "def random_agent(obs):\n",
    "    return {\"Action\":np.random.uniform(-0.3,0.3,size=(1,))}"
   ]
  },
  {
   "cell_type": "code",
   "execution_count": 5,
   "metadata": {},
   "outputs": [],
   "source": [
    "# run a single episode for an agent in the environment and return the rollout\n",
    "\n",
    "def get_episode_trajectory(env, agent, max_steps=1000):\n",
    "    observation_list = []\n",
    "    reward_list = []\n",
    "    action_list = []\n",
    "    value_list = []\n",
    "\n",
    "\n",
    "    done = False\n",
    "    obs = env.reset()\n",
    "    for i in range(max_steps):\n",
    "        observation_list.append(obs.copy())\n",
    "        out = agent(obs)\n",
    "        \n",
    "        assert (\"Action\" in out), \"The key 'Action' was missing from the agents output.\"\n",
    "        action = out[\"Action\"]\n",
    "        obs, rew, done, _, = env.step(action)\n",
    "        reward_list.append(rew)\n",
    "        action_list.append(action.copy())\n",
    "        if \"Value\" in out:\n",
    "            value_list.append(out[\"Value\"])\n",
    "            \n",
    "        if done:\n",
    "            break\n",
    "        \n",
    "    ret = {\n",
    "        \"Observations\": observation_list, \n",
    "        \"Actions\": action_list, \n",
    "        \"Rewards\": np.array(reward_list, dtype=np.float32)\n",
    "    }\n",
    "    if len(value_list) > 0:\n",
    "        ret[\"Values\"] = value_list\n",
    "        \n",
    "    return ret"
   ]
  },
  {
   "cell_type": "code",
   "execution_count": 6,
   "metadata": {},
   "outputs": [],
   "source": [
    "def reward_to_go(rewards):\n",
    "    return np.flip(np.cumsum(np.flip(rewards)))\n",
    "def returns(rewards):\n",
    "    return np.sum(rewards)"
   ]
  },
  {
   "cell_type": "markdown",
   "metadata": {},
   "source": [
    "$$\n",
    "\\large \\nabla_{\\theta}J(\\theta) \\approx \\frac{1}{N}\\sum \\limits_{i = 1}^{N}\\left( \\sum \\limits_{t = 1}^{T} \\nabla_{\\theta}log\\pi_{\\theta}(s_{i,t}\\mid a_{i,t})\\right)\\left( \\sum \\limits_{t = 1}^{T}r(s_{i,t},a_{i,t}) - b\\right)\n",
    "$$"
   ]
  },
  {
   "cell_type": "code",
   "execution_count": 7,
   "metadata": {},
   "outputs": [],
   "source": [
    "def loss_pg(log_probs, returns):\n",
    "    \n",
    "    log_probs = tf.reduce_sum(log_probs, axis=0)\n",
    "    \n",
    "    if np.ndim(returns) > 1:\n",
    "        returns = np.sum(returns, axis = 1)\n",
    "    else:\n",
    "        returns = np.sum(returns)\n",
    "    \n",
    "    return -tf.reduce_mean(returns * log_probs)"
   ]
  },
  {
   "cell_type": "markdown",
   "metadata": {},
   "source": [
    "## Training Loop"
   ]
  },
  {
   "cell_type": "code",
   "execution_count": 13,
   "metadata": {},
   "outputs": [],
   "source": [
    "def train_policy_grad(env, agent, num_epochs=300):\n",
    "    current_time = datetime.datetime.now().strftime(\"%Y%m%d-%H%M%S\")\n",
    "    train_log_dir = 'logs/' + current_time + '/train'\n",
    "    # test_log_dir = 'logs/gradient_tape/' + current_time + '/test'\n",
    "    train_summary_writer = tf.summary.create_file_writer(train_log_dir)\n",
    "       \n",
    "    optimizer = tf.keras.optimizers.Adam(learning_rate=1e-3)\n",
    "    log_reward = 0\n",
    "    log_reward_list = []\n",
    "    logging_period = 10\n",
    "    \n",
    "    for epoch in range(num_epochs):\n",
    "        # get the training data\n",
    "        traj = get_episode_trajectory(env, agent)\n",
    "        obs = np.stack(traj[\"Observations\"])\n",
    "        rew = traj[\"Rewards\"]\n",
    "        actions = traj[\"Actions\"]\n",
    "        \n",
    "        # compute 'reward-to-go'\n",
    "        rew_2_go = reward_to_go(rew)\n",
    "        \n",
    "        # compute gradients + update weights\n",
    "        with tf.GradientTape() as tape:\n",
    "            out = agent(obs)\n",
    "            log_probs = out[\"LogProbability\"] \n",
    "\n",
    "            if np.min(log_probs) < -1e5:\n",
    "                print('#################')\n",
    "                tf.print(\"Log prob too small\", log_probs, summarize=6)\n",
    "                tf.print( \"Scale is:\", agent(obs)[\"Scale\"])\n",
    "            loss = loss_pg(log_probs, rew_2_go)\n",
    "            \n",
    "        gradients = tape.gradient(loss, agent.trainable_variables)\n",
    "        optimizer.apply_gradients(zip(gradients, agent.trainable_variables))\n",
    "        \n",
    "        with train_summary_writer.as_default():\n",
    "            tf.summary.scalar('loss', loss, step=epoch)\n",
    "            tf.summary.histogram(\"Action\", tf.reduce_mean(out[\"Action\"]) , step=epoch)\n",
    "            tf.summary.histogram(\"LogProbability\", tf.reduce_mean(out[\"LogProbability\"]) , step=epoch)\n",
    "            tf.summary.histogram(\"Sigma\", tf.reduce_mean(out[\"Scale\"]) , step=epoch)\n",
    "            tf.summary.histogram(\"Mu\", tf.reduce_mean(out[\"Loc\"]) , step=epoch)\n",
    "            \n",
    "            for i,g in enumerate(gradients):\n",
    "                tf.summary.histogram(\"gradient_\"+str(i),tf.reduce_mean(g), step=epoch)\n",
    "\n",
    "        \n",
    "        # log the reward\n",
    "        log_reward += np.sum(rew)\n",
    "        if (epoch % logging_period) == 0:\n",
    "            template = 'Training Epoch {}, Averaged Return: {}'\n",
    "            print(template.format(epoch, log_reward / logging_period))\n",
    "            log_reward_list.append(log_reward / logging_period)\n",
    "            log_reward = 0\n",
    "            #set_trace()\n",
    "       \n",
    "    return (range(0, num_epochs, logging_period), log_reward_list)"
   ]
  },
  {
   "cell_type": "code",
   "execution_count": 14,
   "metadata": {},
   "outputs": [
    {
     "name": "stdout",
     "output_type": "stream",
     "text": [
      "Training Epoch 0, Averaged Return: -94.01596069335938\n",
      "> \u001b[1;32m<ipython-input-13-ad4f1e49eea7>\u001b[0m(12)\u001b[0;36mtrain_policy_grad\u001b[1;34m()\u001b[0m\n",
      "\u001b[1;32m     10 \u001b[1;33m    \u001b[0mlogging_period\u001b[0m \u001b[1;33m=\u001b[0m \u001b[1;36m10\u001b[0m\u001b[1;33m\u001b[0m\u001b[0m\n",
      "\u001b[0m\u001b[1;32m     11 \u001b[1;33m\u001b[1;33m\u001b[0m\u001b[0m\n",
      "\u001b[0m\u001b[1;32m---> 12 \u001b[1;33m    \u001b[1;32mfor\u001b[0m \u001b[0mepoch\u001b[0m \u001b[1;32min\u001b[0m \u001b[0mrange\u001b[0m\u001b[1;33m(\u001b[0m\u001b[0mnum_epochs\u001b[0m\u001b[1;33m)\u001b[0m\u001b[1;33m:\u001b[0m\u001b[1;33m\u001b[0m\u001b[0m\n",
      "\u001b[0m\u001b[1;32m     13 \u001b[1;33m        \u001b[1;31m# get the training data\u001b[0m\u001b[1;33m\u001b[0m\u001b[1;33m\u001b[0m\u001b[0m\n",
      "\u001b[0m\u001b[1;32m     14 \u001b[1;33m        \u001b[0mtraj\u001b[0m \u001b[1;33m=\u001b[0m \u001b[0mget_episode_trajectory\u001b[0m\u001b[1;33m(\u001b[0m\u001b[0menv\u001b[0m\u001b[1;33m,\u001b[0m \u001b[0magent\u001b[0m\u001b[1;33m)\u001b[0m\u001b[1;33m\u001b[0m\u001b[0m\n",
      "\u001b[0m\n",
      "--KeyboardInterrupt--\n",
      "\n",
      "KeyboardInterrupt: Interrupted by user\n",
      "Training Epoch 10, Averaged Return: -714.4274444580078\n",
      "> \u001b[1;32m<ipython-input-13-ad4f1e49eea7>\u001b[0m(12)\u001b[0;36mtrain_policy_grad\u001b[1;34m()\u001b[0m\n",
      "\u001b[1;32m     10 \u001b[1;33m    \u001b[0mlogging_period\u001b[0m \u001b[1;33m=\u001b[0m \u001b[1;36m10\u001b[0m\u001b[1;33m\u001b[0m\u001b[0m\n",
      "\u001b[0m\u001b[1;32m     11 \u001b[1;33m\u001b[1;33m\u001b[0m\u001b[0m\n",
      "\u001b[0m\u001b[1;32m---> 12 \u001b[1;33m    \u001b[1;32mfor\u001b[0m \u001b[0mepoch\u001b[0m \u001b[1;32min\u001b[0m \u001b[0mrange\u001b[0m\u001b[1;33m(\u001b[0m\u001b[0mnum_epochs\u001b[0m\u001b[1;33m)\u001b[0m\u001b[1;33m:\u001b[0m\u001b[1;33m\u001b[0m\u001b[0m\n",
      "\u001b[0m\u001b[1;32m     13 \u001b[1;33m        \u001b[1;31m# get the training data\u001b[0m\u001b[1;33m\u001b[0m\u001b[1;33m\u001b[0m\u001b[0m\n",
      "\u001b[0m\u001b[1;32m     14 \u001b[1;33m        \u001b[0mtraj\u001b[0m \u001b[1;33m=\u001b[0m \u001b[0mget_episode_trajectory\u001b[0m\u001b[1;33m(\u001b[0m\u001b[0menv\u001b[0m\u001b[1;33m,\u001b[0m \u001b[0magent\u001b[0m\u001b[1;33m)\u001b[0m\u001b[1;33m\u001b[0m\u001b[0m\n",
      "\u001b[0m\n",
      "--KeyboardInterrupt--\n",
      "\n",
      "KeyboardInterrupt: Interrupted by user\n",
      "Training Epoch 20, Averaged Return: -818.38203125\n",
      "> \u001b[1;32m<ipython-input-13-ad4f1e49eea7>\u001b[0m(12)\u001b[0;36mtrain_policy_grad\u001b[1;34m()\u001b[0m\n",
      "\u001b[1;32m     10 \u001b[1;33m    \u001b[0mlogging_period\u001b[0m \u001b[1;33m=\u001b[0m \u001b[1;36m10\u001b[0m\u001b[1;33m\u001b[0m\u001b[0m\n",
      "\u001b[0m\u001b[1;32m     11 \u001b[1;33m\u001b[1;33m\u001b[0m\u001b[0m\n",
      "\u001b[0m\u001b[1;32m---> 12 \u001b[1;33m    \u001b[1;32mfor\u001b[0m \u001b[0mepoch\u001b[0m \u001b[1;32min\u001b[0m \u001b[0mrange\u001b[0m\u001b[1;33m(\u001b[0m\u001b[0mnum_epochs\u001b[0m\u001b[1;33m)\u001b[0m\u001b[1;33m:\u001b[0m\u001b[1;33m\u001b[0m\u001b[0m\n",
      "\u001b[0m\u001b[1;32m     13 \u001b[1;33m        \u001b[1;31m# get the training data\u001b[0m\u001b[1;33m\u001b[0m\u001b[1;33m\u001b[0m\u001b[0m\n",
      "\u001b[0m\u001b[1;32m     14 \u001b[1;33m        \u001b[0mtraj\u001b[0m \u001b[1;33m=\u001b[0m \u001b[0mget_episode_trajectory\u001b[0m\u001b[1;33m(\u001b[0m\u001b[0menv\u001b[0m\u001b[1;33m,\u001b[0m \u001b[0magent\u001b[0m\u001b[1;33m)\u001b[0m\u001b[1;33m\u001b[0m\u001b[0m\n",
      "\u001b[0m\n",
      "ipdb> q\n"
     ]
    },
    {
     "ename": "BdbQuit",
     "evalue": "",
     "output_type": "error",
     "traceback": [
      "\u001b[1;31m---------------------------------------------------------------------------\u001b[0m",
      "\u001b[1;31mBdbQuit\u001b[0m                                   Traceback (most recent call last)",
      "\u001b[1;32m<ipython-input-14-ac199ecd7bfc>\u001b[0m in \u001b[0;36m<module>\u001b[1;34m\u001b[0m\n\u001b[0;32m      3\u001b[0m \u001b[1;33m\u001b[0m\u001b[0m\n\u001b[0;32m      4\u001b[0m \u001b[0magent_mlp_tf\u001b[0m \u001b[1;33m=\u001b[0m \u001b[0mAgentMLPTF\u001b[0m\u001b[1;33m(\u001b[0m\u001b[1;33m)\u001b[0m\u001b[1;33m\u001b[0m\u001b[0m\n\u001b[1;32m----> 5\u001b[1;33m \u001b[1;33m(\u001b[0m\u001b[0mepisodes\u001b[0m\u001b[1;33m,\u001b[0m \u001b[0mrewards\u001b[0m\u001b[1;33m)\u001b[0m \u001b[1;33m=\u001b[0m \u001b[0mtrain_policy_grad\u001b[0m\u001b[1;33m(\u001b[0m\u001b[0menv\u001b[0m\u001b[1;33m,\u001b[0m \u001b[0magent_mlp_tf\u001b[0m\u001b[1;33m)\u001b[0m\u001b[1;33m\u001b[0m\u001b[0m\n\u001b[0m",
      "\u001b[1;32m<ipython-input-13-ad4f1e49eea7>\u001b[0m in \u001b[0;36mtrain_policy_grad\u001b[1;34m(env, agent, num_epochs)\u001b[0m\n\u001b[0;32m     10\u001b[0m     \u001b[0mlogging_period\u001b[0m \u001b[1;33m=\u001b[0m \u001b[1;36m10\u001b[0m\u001b[1;33m\u001b[0m\u001b[0m\n\u001b[0;32m     11\u001b[0m \u001b[1;33m\u001b[0m\u001b[0m\n\u001b[1;32m---> 12\u001b[1;33m     \u001b[1;32mfor\u001b[0m \u001b[0mepoch\u001b[0m \u001b[1;32min\u001b[0m \u001b[0mrange\u001b[0m\u001b[1;33m(\u001b[0m\u001b[0mnum_epochs\u001b[0m\u001b[1;33m)\u001b[0m\u001b[1;33m:\u001b[0m\u001b[1;33m\u001b[0m\u001b[0m\n\u001b[0m\u001b[0;32m     13\u001b[0m         \u001b[1;31m# get the training data\u001b[0m\u001b[1;33m\u001b[0m\u001b[1;33m\u001b[0m\u001b[0m\n\u001b[0;32m     14\u001b[0m         \u001b[0mtraj\u001b[0m \u001b[1;33m=\u001b[0m \u001b[0mget_episode_trajectory\u001b[0m\u001b[1;33m(\u001b[0m\u001b[0menv\u001b[0m\u001b[1;33m,\u001b[0m \u001b[0magent\u001b[0m\u001b[1;33m)\u001b[0m\u001b[1;33m\u001b[0m\u001b[0m\n",
      "\u001b[1;32m<ipython-input-13-ad4f1e49eea7>\u001b[0m in \u001b[0;36mtrain_policy_grad\u001b[1;34m(env, agent, num_epochs)\u001b[0m\n\u001b[0;32m     10\u001b[0m     \u001b[0mlogging_period\u001b[0m \u001b[1;33m=\u001b[0m \u001b[1;36m10\u001b[0m\u001b[1;33m\u001b[0m\u001b[0m\n\u001b[0;32m     11\u001b[0m \u001b[1;33m\u001b[0m\u001b[0m\n\u001b[1;32m---> 12\u001b[1;33m     \u001b[1;32mfor\u001b[0m \u001b[0mepoch\u001b[0m \u001b[1;32min\u001b[0m \u001b[0mrange\u001b[0m\u001b[1;33m(\u001b[0m\u001b[0mnum_epochs\u001b[0m\u001b[1;33m)\u001b[0m\u001b[1;33m:\u001b[0m\u001b[1;33m\u001b[0m\u001b[0m\n\u001b[0m\u001b[0;32m     13\u001b[0m         \u001b[1;31m# get the training data\u001b[0m\u001b[1;33m\u001b[0m\u001b[1;33m\u001b[0m\u001b[0m\n\u001b[0;32m     14\u001b[0m         \u001b[0mtraj\u001b[0m \u001b[1;33m=\u001b[0m \u001b[0mget_episode_trajectory\u001b[0m\u001b[1;33m(\u001b[0m\u001b[0menv\u001b[0m\u001b[1;33m,\u001b[0m \u001b[0magent\u001b[0m\u001b[1;33m)\u001b[0m\u001b[1;33m\u001b[0m\u001b[0m\n",
      "\u001b[1;32mC:\\ProgramData\\Miniconda3\\envs\\rl\\lib\\bdb.py\u001b[0m in \u001b[0;36mtrace_dispatch\u001b[1;34m(self, frame, event, arg)\u001b[0m\n\u001b[0;32m     86\u001b[0m             \u001b[1;32mreturn\u001b[0m \u001b[1;31m# None\u001b[0m\u001b[1;33m\u001b[0m\u001b[0m\n\u001b[0;32m     87\u001b[0m         \u001b[1;32mif\u001b[0m \u001b[0mevent\u001b[0m \u001b[1;33m==\u001b[0m \u001b[1;34m'line'\u001b[0m\u001b[1;33m:\u001b[0m\u001b[1;33m\u001b[0m\u001b[0m\n\u001b[1;32m---> 88\u001b[1;33m             \u001b[1;32mreturn\u001b[0m \u001b[0mself\u001b[0m\u001b[1;33m.\u001b[0m\u001b[0mdispatch_line\u001b[0m\u001b[1;33m(\u001b[0m\u001b[0mframe\u001b[0m\u001b[1;33m)\u001b[0m\u001b[1;33m\u001b[0m\u001b[0m\n\u001b[0m\u001b[0;32m     89\u001b[0m         \u001b[1;32mif\u001b[0m \u001b[0mevent\u001b[0m \u001b[1;33m==\u001b[0m \u001b[1;34m'call'\u001b[0m\u001b[1;33m:\u001b[0m\u001b[1;33m\u001b[0m\u001b[0m\n\u001b[0;32m     90\u001b[0m             \u001b[1;32mreturn\u001b[0m \u001b[0mself\u001b[0m\u001b[1;33m.\u001b[0m\u001b[0mdispatch_call\u001b[0m\u001b[1;33m(\u001b[0m\u001b[0mframe\u001b[0m\u001b[1;33m,\u001b[0m \u001b[0marg\u001b[0m\u001b[1;33m)\u001b[0m\u001b[1;33m\u001b[0m\u001b[0m\n",
      "\u001b[1;32mC:\\ProgramData\\Miniconda3\\envs\\rl\\lib\\bdb.py\u001b[0m in \u001b[0;36mdispatch_line\u001b[1;34m(self, frame)\u001b[0m\n\u001b[0;32m    111\u001b[0m         \u001b[1;32mif\u001b[0m \u001b[0mself\u001b[0m\u001b[1;33m.\u001b[0m\u001b[0mstop_here\u001b[0m\u001b[1;33m(\u001b[0m\u001b[0mframe\u001b[0m\u001b[1;33m)\u001b[0m \u001b[1;32mor\u001b[0m \u001b[0mself\u001b[0m\u001b[1;33m.\u001b[0m\u001b[0mbreak_here\u001b[0m\u001b[1;33m(\u001b[0m\u001b[0mframe\u001b[0m\u001b[1;33m)\u001b[0m\u001b[1;33m:\u001b[0m\u001b[1;33m\u001b[0m\u001b[0m\n\u001b[0;32m    112\u001b[0m             \u001b[0mself\u001b[0m\u001b[1;33m.\u001b[0m\u001b[0muser_line\u001b[0m\u001b[1;33m(\u001b[0m\u001b[0mframe\u001b[0m\u001b[1;33m)\u001b[0m\u001b[1;33m\u001b[0m\u001b[0m\n\u001b[1;32m--> 113\u001b[1;33m             \u001b[1;32mif\u001b[0m \u001b[0mself\u001b[0m\u001b[1;33m.\u001b[0m\u001b[0mquitting\u001b[0m\u001b[1;33m:\u001b[0m \u001b[1;32mraise\u001b[0m \u001b[0mBdbQuit\u001b[0m\u001b[1;33m\u001b[0m\u001b[0m\n\u001b[0m\u001b[0;32m    114\u001b[0m         \u001b[1;32mreturn\u001b[0m \u001b[0mself\u001b[0m\u001b[1;33m.\u001b[0m\u001b[0mtrace_dispatch\u001b[0m\u001b[1;33m\u001b[0m\u001b[0m\n\u001b[0;32m    115\u001b[0m \u001b[1;33m\u001b[0m\u001b[0m\n",
      "\u001b[1;31mBdbQuit\u001b[0m: "
     ]
    },
    {
     "data": {
      "image/png": "[encoded data removed]",
      "text/plain": [
       "<Figure size 432x288 with 1 Axes>"
      ]
     },
     "metadata": {
      "needs_background": "light"
     },
     "output_type": "display_data"
    }
   ],
   "source": [
    "# load agent\n",
    "from src.agents.AgentMLPTF import AgentMLPTF\n",
    "\n",
    "agent_mlp_tf = AgentMLPTF()\n",
    "(episodes, rewards) = train_policy_grad(env, agent_mlp_tf)"
   ]
  },
  {
   "cell_type": "code",
   "execution_count": 10,
   "metadata": {},
   "outputs": [
    {
     "data": {
      "text/plain": [
       "6"
      ]
     },
     "execution_count": 10,
     "metadata": {},
     "output_type": "execute_result"
    }
   ],
   "source": [
    "len(agent_mlp_tf.trainable_variables)"
   ]
  },
  {
   "cell_type": "code",
   "execution_count": 10,
   "metadata": {},
   "outputs": [
    {
     "name": "stdout",
     "output_type": "stream",
     "text": [
      "1\n"
     ]
    }
   ],
   "source": [
    "s = env.reset()\n",
    "print(np.array(s.ndim))\n",
    "eps = 300\n",
    "states = []\n",
    "rewards_1 = []\n",
    "for i in range(eps):\n",
    "    traj = get_episode_trajectory(env, random_agent)\n",
    "    rewards_1.append(np.sum(traj[\"Rewards\"]))\n",
    "    "
   ]
  },
  {
   "cell_type": "code",
   "execution_count": 11,
   "metadata": {},
   "outputs": [
    {
     "ename": "NameError",
     "evalue": "name 'episodes' is not defined",
     "output_type": "error",
     "traceback": [
      "\u001b[1;31m---------------------------------------------------------------------------\u001b[0m",
      "\u001b[1;31mNameError\u001b[0m                                 Traceback (most recent call last)",
      "\u001b[1;32m<ipython-input-11-3ffad4f59809>\u001b[0m in \u001b[0;36m<module>\u001b[1;34m\u001b[0m\n\u001b[1;32m----> 1\u001b[1;33m \u001b[0mplt\u001b[0m\u001b[1;33m.\u001b[0m\u001b[0mplot\u001b[0m\u001b[1;33m(\u001b[0m\u001b[0mepisodes\u001b[0m\u001b[1;33m,\u001b[0m \u001b[0mrewards\u001b[0m\u001b[1;33m,\u001b[0m \u001b[0mlabel\u001b[0m\u001b[1;33m=\u001b[0m\u001b[1;34m\"REINFORCE\"\u001b[0m\u001b[1;33m)\u001b[0m\u001b[1;33m\u001b[0m\u001b[0m\n\u001b[0m\u001b[0;32m      2\u001b[0m \u001b[0mplt\u001b[0m\u001b[1;33m.\u001b[0m\u001b[0mplot\u001b[0m\u001b[1;33m(\u001b[0m\u001b[0mepisodes\u001b[0m\u001b[1;33m,\u001b[0m \u001b[0mrewards_1\u001b[0m\u001b[1;33m,\u001b[0m \u001b[0mlabel\u001b[0m\u001b[1;33m=\u001b[0m\u001b[1;34m\"Random\"\u001b[0m\u001b[1;33m)\u001b[0m\u001b[1;33m\u001b[0m\u001b[0m\n\u001b[0;32m      3\u001b[0m \u001b[0mplt\u001b[0m\u001b[1;33m.\u001b[0m\u001b[0mxlabel\u001b[0m\u001b[1;33m(\u001b[0m\u001b[1;34m'Episode Number'\u001b[0m\u001b[1;33m)\u001b[0m\u001b[1;33m\u001b[0m\u001b[0m\n\u001b[0;32m      4\u001b[0m \u001b[0mplt\u001b[0m\u001b[1;33m.\u001b[0m\u001b[0mylabel\u001b[0m\u001b[1;33m(\u001b[0m\u001b[1;34m'Average Episode Reward'\u001b[0m\u001b[1;33m)\u001b[0m\u001b[1;33m\u001b[0m\u001b[0m\n\u001b[0;32m      5\u001b[0m \u001b[0mplt\u001b[0m\u001b[1;33m.\u001b[0m\u001b[0mlegend\u001b[0m\u001b[1;33m(\u001b[0m\u001b[1;33m)\u001b[0m\u001b[1;33m\u001b[0m\u001b[0m\n",
      "\u001b[1;31mNameError\u001b[0m: name 'episodes' is not defined"
     ]
    }
   ],
   "source": [
    "\n",
    "plt.plot(episodes, rewards, label=\"REINFORCE\")\n",
    "plt.plot(episodes, rewards_1, label=\"Random\")\n",
    "plt.xlabel('Episode Number')\n",
    "plt.ylabel('Average Episode Reward')\n",
    "plt.legend()\n",
    "plt.show()"
   ]
  },
  {
   "cell_type": "code",
   "execution_count": 33,
   "metadata": {},
   "outputs": [
    {
     "name": "stdout",
     "output_type": "stream",
     "text": [
      "1\n"
     ]
    },
    {
     "data": {
      "image/png": "[encoded data removed]",
      "text/plain": [
       "<Figure size 432x288 with 1 Axes>"
      ]
     },
     "metadata": {
      "needs_background": "light"
     },
     "output_type": "display_data"
    }
   ],
   "source": [
    "%autoreload 2\n",
    "# instantiate env\n",
    "env = LinearEnv(8,randomize=False, visualize=True)\n",
    "\n",
    "s = env.reset()\n",
    "print(np.array(s.ndim))\n",
    "eps = 100\n",
    "states = []\n",
    "\n",
    "for i in range(eps):\n",
    "    a = agent_mlp_tf(s)[\"Action\"]\n",
    "    s,r,done,_ = env.step(a)\n",
    "    states.append(np.array([s,a]))"
   ]
  },
  {
   "cell_type": "code",
   "execution_count": 34,
   "metadata": {},
   "outputs": [
    {
     "data": {
      "text/plain": [
       "<matplotlib.collections.PathCollection at 0x263f5fb5198>"
      ]
     },
     "execution_count": 34,
     "metadata": {},
     "output_type": "execute_result"
    },
    {
     "data": {
      "image/png": "[encoded data removed]",
      "text/plain": [
       "<Figure size 432x288 with 1 Axes>"
      ]
     },
     "metadata": {
      "needs_background": "light"
     },
     "output_type": "display_data"
    }
   ],
   "source": [
    "arr = np.array(states)\n",
    "plt.scatter(list(range(arr.shape[0])),arr[:,0])"
   ]
  },
  {
   "cell_type": "code",
   "execution_count": 35,
   "metadata": {},
   "outputs": [
    {
     "data": {
      "text/plain": [
       "(array([ 1.,  0.,  1.,  2.,  6., 83.,  3.,  1.,  1.,  2.]),\n",
       " array([-4.00917413e+13, -3.20863379e+13, -2.40809346e+13, -1.60755312e+13,\n",
       "        -8.07012779e+12, -6.47244022e+10,  7.94067898e+12,  1.59460824e+13,\n",
       "         2.39514858e+13,  3.19568891e+13,  3.99622925e+13]),\n",
       " <BarContainer object of 10 artists>)"
      ]
     },
     "execution_count": 35,
     "metadata": {},
     "output_type": "execute_result"
    },
    {
     "data": {
      "image/png": "[encoded data removed]",
      "text/plain": [
       "<Figure size 432x288 with 1 Axes>"
      ]
     },
     "metadata": {
      "needs_background": "light"
     },
     "output_type": "display_data"
    }
   ],
   "source": [
    "plt.hist(arr[:,1])"
   ]
  },
  {
   "cell_type": "code",
   "execution_count": 36,
   "metadata": {},
   "outputs": [
    {
     "data": {
      "text/plain": [
       "array([[-7.03915238e-01],\n",
       "       [-1.01702347e+01],\n",
       "       [-2.12331128e+00],\n",
       "       [ 6.47586727e+00],\n",
       "       [-4.71448250e+01],\n",
       "       [-2.18988752e+00],\n",
       "       [-1.76731420e+00],\n",
       "       [ 7.81501007e+00],\n",
       "       [-4.78580093e+01],\n",
       "       [ 2.46193314e+00],\n",
       "       [ 1.61350525e+02],\n",
       "       [-7.61021179e+02],\n",
       "       [ 7.16895370e+01],\n",
       "       [ 1.87057874e+03],\n",
       "       [-3.09903589e+03],\n",
       "       [-7.09151489e+02],\n",
       "       [ 2.16203354e+02],\n",
       "       [ 2.99216766e+02],\n",
       "       [-2.52753672e+04],\n",
       "       [-1.64847168e+03],\n",
       "       [ 1.59412704e+02],\n",
       "       [ 9.50809570e+02],\n",
       "       [ 4.93244727e+04],\n",
       "       [ 5.08989688e+05],\n",
       "       [ 7.78718812e+05],\n",
       "       [-6.10330400e+07],\n",
       "       [-5.43574550e+06],\n",
       "       [ 1.22440992e+05],\n",
       "       [ 2.48543600e+07],\n",
       "       [ 6.43377080e+07],\n",
       "       [-3.83790438e+09],\n",
       "       [-3.09335232e+08],\n",
       "       [-6.41957312e+05],\n",
       "       [-4.95599938e+05],\n",
       "       [-1.11792588e+04],\n",
       "       [-1.30462793e+03],\n",
       "       [ 2.68127380e+02],\n",
       "       [ 2.10981201e+03],\n",
       "       [ 5.54475928e+03],\n",
       "       [-2.67726188e+05],\n",
       "       [ 1.93779082e+04],\n",
       "       [ 1.33514262e+06],\n",
       "       [ 1.12108270e+07],\n",
       "       [-4.93511120e+07],\n",
       "       [-2.15442820e+07],\n",
       "       [-1.26016344e+05],\n",
       "       [-1.34281191e+04],\n",
       "       [ 5.96879883e+02],\n",
       "       [-1.04840146e+04],\n",
       "       [ 3.01454712e+03],\n",
       "       [-4.40304639e+03],\n",
       "       [ 9.08800293e+02],\n",
       "       [ 2.92310039e+04],\n",
       "       [ 2.06824094e+05],\n",
       "       [ 1.08874516e+05],\n",
       "       [ 1.90297216e+08],\n",
       "       [ 3.08671232e+08],\n",
       "       [ 4.49559634e+10],\n",
       "       [ 9.14339463e+11],\n",
       "       [ 2.65559736e+11],\n",
       "       [ 9.57730102e+12],\n",
       "       [ 3.27383693e+13],\n",
       "       [-2.28499443e+12],\n",
       "       [ 1.74926397e+11],\n",
       "       [-1.85744920e+13],\n",
       "       [-7.92423825e+11],\n",
       "       [ 3.46657710e+10],\n",
       "       [ 1.35020793e+12],\n",
       "       [-3.02789768e+12],\n",
       "       [ 3.10735897e+11],\n",
       "       [ 2.62394118e+11],\n",
       "       [-5.43416857e+12],\n",
       "       [ 2.83099038e+11],\n",
       "       [-1.22527290e+13],\n",
       "       [ 1.68561213e+12],\n",
       "       [ 9.13431016e+12],\n",
       "       [ 2.60950259e+13],\n",
       "       [ 2.11780916e+13],\n",
       "       [ 9.99930357e+12],\n",
       "       [-4.00917413e+13],\n",
       "       [ 2.48468193e+11],\n",
       "       [ 7.78637987e+12],\n",
       "       [ 3.99622925e+13],\n",
       "       [-8.33489155e+12],\n",
       "       [-1.44157032e+11],\n",
       "       [-3.77890980e+10],\n",
       "       [ 6.67737536e+08],\n",
       "       [-1.81782554e+09],\n",
       "       [-6.98054976e+08],\n",
       "       [ 2.72603168e+08],\n",
       "       [ 4.99482784e+08],\n",
       "       [-1.57581230e+11],\n",
       "       [-9.37500736e+08],\n",
       "       [ 7.16658950e+06],\n",
       "       [-1.69235072e+09],\n",
       "       [ 1.14614608e+08],\n",
       "       [ 2.31443174e+09],\n",
       "       [-3.01628068e+10],\n",
       "       [-1.32918024e+08],\n",
       "       [-3.75119000e+07]])"
      ]
     },
     "execution_count": 36,
     "metadata": {},
     "output_type": "execute_result"
    }
   ],
   "source": [
    "arr[:,1]"
   ]
  }
 ],
 "metadata": {
  "kernelspec": {
   "display_name": "Python 3",
   "language": "python",
   "name": "python3"
  },
  "language_info": {
   "codemirror_mode": {
    "name": "ipython",
    "version": 3
   },
   "file_extension": ".py",
   "mimetype": "text/x-python",
   "name": "python",
   "nbconvert_exporter": "python",
   "pygments_lexer": "ipython3",
   "version": "3.7.0"
  }
 },
 "nbformat": 4,
 "nbformat_minor": 4
}
